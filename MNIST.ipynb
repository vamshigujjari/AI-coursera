{
  "nbformat": 4,
  "nbformat_minor": 0,
  "metadata": {
    "colab": {
      "name": "MNIST.ipynb",
      "version": "0.3.2",
      "provenance": []
    },
    "kernelspec": {
      "name": "python3",
      "display_name": "Python 3"
    }
  },
  "cells": [
    {
      "cell_type": "markdown",
      "metadata": {
        "id": "isI9rN-eYllw",
        "colab_type": "text"
      },
      "source": [
        "##MNIST Handwriting detection\n"
      ]
    },
    {
      "cell_type": "code",
      "metadata": {
        "id": "Vh_ciRwWYhon",
        "colab_type": "code",
        "colab": {
          "base_uri": "https://localhost:8080/",
          "height": 326
        },
        "outputId": "7b5785b8-94b4-4cf3-c72f-f8e4ab3d9e8d"
      },
      "source": [
        "\n",
        "import tensorflow as tf\n",
        "import keras\n",
        "mnist = tf.keras.datasets.mnist\n",
        "\n",
        "class mycallback(tf.keras.callbacks.Callback):\n",
        "  def on_epoch_end(self, epoch, logs={}):\n",
        "    if(logs.get('acc')>0.99):\n",
        "      print(\"Reached 99% accuracy so cancelling training!\")\n",
        "      self.model.stop_training = True\n",
        "      \n",
        "(x_train, y_train),(x_test, y_test) = mnist.load_data()\n",
        "\n",
        "x_train = x_train.astype('float32') \n",
        "x_train = x_train/255.0\n",
        "callbacks = mycallback()\n",
        "model = tf.keras.models.Sequential()\n",
        "model.add(tf.keras.layers.Flatten(input_shape=(28, 28)))\n",
        "model.add(tf.keras.layers.Dense(512, activation = 'relu'))\n",
        "model.add(tf.keras.layers.Dense(10, activation = 'softmax'))\n",
        "model.compile(optimizer='adam',\n",
        "              loss='sparse_categorical_crossentropy',\n",
        "              metrics=['accuracy'])\n",
        "model.fit(x_train, y_train, epochs=10, callbacks=[callbacks])"
      ],
      "execution_count": 1,
      "outputs": [
        {
          "output_type": "stream",
          "text": [
            "Using TensorFlow backend.\n",
            "WARNING: Logging before flag parsing goes to stderr.\n",
            "W0801 18:12:39.987332 139900514445184 deprecation.py:506] From /usr/local/lib/python3.6/dist-packages/tensorflow/python/ops/init_ops.py:1251: calling VarianceScaling.__init__ (from tensorflow.python.ops.init_ops) with dtype is deprecated and will be removed in a future version.\n",
            "Instructions for updating:\n",
            "Call initializer instance with the dtype argument instead of passing it to the constructor\n"
          ],
          "name": "stderr"
        },
        {
          "output_type": "stream",
          "text": [
            "Epoch 1/10\n",
            "60000/60000 [==============================] - 7s 118us/sample - loss: 0.2005 - acc: 0.9408\n",
            "Epoch 2/10\n",
            "60000/60000 [==============================] - 7s 120us/sample - loss: 0.0815 - acc: 0.9753\n",
            "Epoch 3/10\n",
            "60000/60000 [==============================] - 7s 117us/sample - loss: 0.0510 - acc: 0.9839\n",
            "Epoch 4/10\n",
            "60000/60000 [==============================] - 7s 112us/sample - loss: 0.0352 - acc: 0.9888\n",
            "Epoch 5/10\n",
            "59680/60000 [============================>.] - ETA: 0s - loss: 0.0284 - acc: 0.9906Reached 99% accuracy so cancelling training!\n",
            "60000/60000 [==============================] - 7s 115us/sample - loss: 0.0283 - acc: 0.9906\n"
          ],
          "name": "stdout"
        },
        {
          "output_type": "execute_result",
          "data": {
            "text/plain": [
              "<tensorflow.python.keras.callbacks.History at 0x7f3ce6729c18>"
            ]
          },
          "metadata": {
            "tags": []
          },
          "execution_count": 1
        }
      ]
    },
    {
      "cell_type": "code",
      "metadata": {
        "id": "sVx31ByIYi16",
        "colab_type": "code",
        "colab": {}
      },
      "source": [
        ""
      ],
      "execution_count": 0,
      "outputs": []
    }
  ]
}